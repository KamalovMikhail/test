{
 "cells": [
  {
   "cell_type": "code",
   "execution_count": 213,
   "id": "713b833a-1496-453f-a9e8-3f8e381be1d8",
   "metadata": {},
   "outputs": [],
   "source": [
    "import pandas as pd\n",
    "from sentence_transformers import SentenceTransformer\n",
    "import xgboost as xgb\n",
    "import numpy as np\n",
    "from sklearn.metrics import make_scorer\n",
    "from sklearn.model_selection import cross_val_score"
   ]
  },
  {
   "cell_type": "markdown",
   "id": "bf84a943-fa91-489d-b816-fc41e7de9187",
   "metadata": {},
   "source": [
    "## Meta "
   ]
  },
  {
   "cell_type": "code",
   "execution_count": 4,
   "id": "811ab5b5-67e0-4ebe-8ec7-09c5e6b72786",
   "metadata": {},
   "outputs": [],
   "source": [
    "token_meta = pd.read_csv('token_metadata.csv')\n",
    "token_meta.fillna('unknown', inplace=True)\n",
    "token_meta['text'] = token_meta[['Skin Tone', 'Type', 'Hair', 'Eyewear', 'Mouth', 'Headwear',\n",
    "       'Facial Hair', 'Smoking Device', 'Other:Earring', 'Neckwear',\n",
    "       'Skin Feature', 'Other:Medical Mask', 'Other:Clown Nose', 'Trait Count',\n",
    "       'rarest_property_name']].apply(lambda x: ' '.join(x), axis=1)\n",
    "token_meta = token_meta[['token_index','rarity_score', 'text']]\n",
    "\n",
    "model = SentenceTransformer(\"sentence-transformers/all-MiniLM-L6-v2\")\n",
    "embeddings = model.encode(token_meta.text.values)"
   ]
  },
  {
   "cell_type": "code",
   "execution_count": 187,
   "id": "73baf808-539f-403d-afcc-929e50713dd4",
   "metadata": {},
   "outputs": [],
   "source": [
    "col_names = [f\"emb_{i}\" for i in range(embeddings.shape[1])]\n",
    "df_emb = pd.DataFrame(embeddings, columns=col_names)\n",
    "df_emb['token_index'] = token_meta['token_index']\n",
    "df_emb['rarity_score'] = token_meta['rarity_score']"
   ]
  },
  {
   "cell_type": "markdown",
   "id": "b0df62b8-aa3b-4134-aba4-5f83c956759f",
   "metadata": {},
   "source": [
    "## Sales"
   ]
  },
  {
   "cell_type": "code",
   "execution_count": 297,
   "id": "036f201f-d2b7-4b3a-b193-f025400627b2",
   "metadata": {},
   "outputs": [],
   "source": [
    "token_sale = pd.read_csv('token_sales.csv')"
   ]
  },
  {
   "cell_type": "code",
   "execution_count": 298,
   "id": "dfddf8a8-4720-4afc-8fdb-ea8f6f538589",
   "metadata": {},
   "outputs": [],
   "source": [
    "df_sorted = token_sale.sort_values(by='timestamp', ascending=False)\n",
    "grouped = df_sorted.groupby('token_index')\n",
    "grouped = grouped[['token_index', 'eth']].first()\n",
    "grouped = grouped.reset_index(drop=True)\n",
    "result = pd.merge(grouped, df_emb, on='token_index', how='inner')\n",
    "y = result.eth"
   ]
  },
  {
   "cell_type": "code",
   "execution_count": 232,
   "id": "de5076a5-9cc8-4f84-a6fb-2911ffbe286a",
   "metadata": {},
   "outputs": [],
   "source": [
    "result.drop(['token_index', 'eth'], inplace=True, axis=1)"
   ]
  },
  {
   "cell_type": "markdown",
   "id": "68b07cef-e113-41d7-b8e9-741e6313729a",
   "metadata": {},
   "source": [
    "# Model"
   ]
  },
  {
   "cell_type": "code",
   "execution_count": 222,
   "id": "5a29ccd0-48f3-46bf-8943-15aa8784909a",
   "metadata": {},
   "outputs": [],
   "source": [
    "# Define the MdAPE metric as a custom scoring function\n",
    "def mdape(y_true, y_pred):\n",
    "    return np.median(np.abs((y_true - y_pred) / y_true)) * 100"
   ]
  },
  {
   "cell_type": "code",
   "execution_count": 223,
   "id": "5275229e-136d-4b80-9e20-8739b2e4b2d9",
   "metadata": {},
   "outputs": [],
   "source": [
    "# Create the XGBoost regression model\n",
    "model = xgb.XGBRegressor()"
   ]
  },
  {
   "cell_type": "code",
   "execution_count": 224,
   "id": "517f6e89-52d2-4a96-8dc3-48acb9abd765",
   "metadata": {},
   "outputs": [],
   "source": [
    "# Define the scoring function using MdAPE\n",
    "scoring = make_scorer(mdape, greater_is_better=False)"
   ]
  },
  {
   "cell_type": "code",
   "execution_count": 225,
   "id": "f5c499f3-ed29-42ae-a367-33e8b7bd754d",
   "metadata": {},
   "outputs": [],
   "source": [
    "# Perform cross-validation and calculate MdAPE scores\n",
    "mdape_scores = -cross_val_score(model, result, y, cv=5, scoring=scoring)"
   ]
  },
  {
   "cell_type": "code",
   "execution_count": 226,
   "id": "2fcdf504-e08a-421f-82fe-4187937e0a51",
   "metadata": {},
   "outputs": [],
   "source": [
    "# Average the MdAPE scores to get the final evaluation result\n",
    "mean_mdape = np.mean(mdape_scores)"
   ]
  },
  {
   "cell_type": "code",
   "execution_count": 227,
   "id": "19cd2e26-1ac0-4675-a2f4-ef7173d02b36",
   "metadata": {},
   "outputs": [
    {
     "data": {
      "text/plain": [
       "62.92366432684823"
      ]
     },
     "execution_count": 227,
     "metadata": {},
     "output_type": "execute_result"
    }
   ],
   "source": [
    "mean_mdape"
   ]
  },
  {
   "cell_type": "markdown",
   "id": "d073c794-0e6c-4dab-aefc-366bda4ce1e3",
   "metadata": {},
   "source": [
    "# New features"
   ]
  },
  {
   "cell_type": "code",
   "execution_count": 307,
   "id": "7e8b859b-996f-4651-9f6a-048f19f97566",
   "metadata": {},
   "outputs": [],
   "source": [
    "df_sorted = token_sale.sort_values(by='timestamp', ascending=False)\n",
    "grouped = df_sorted.groupby('token_index')\n",
    "grouped = grouped[['token_index', 'eth']].first()\n",
    "grouped = grouped.reset_index(drop=True)\n",
    "result = pd.merge(grouped, df_emb, on='token_index', how='inner') "
   ]
  },
  {
   "cell_type": "code",
   "execution_count": 308,
   "id": "82136767-bf19-47d1-97c8-13b3fcb4e70b",
   "metadata": {},
   "outputs": [],
   "source": [
    "last_elements_ = df_sorted.groupby('token_index').tail(-1) "
   ]
  },
  {
   "cell_type": "code",
   "execution_count": 309,
   "id": "1e361086-03c4-4388-9f51-36799ddf495a",
   "metadata": {},
   "outputs": [],
   "source": [
    "mean_l = last_elements_.groupby('token_index')[['eth','usd']].mean()\n",
    "mean_l = mean_l.rename(columns={'eth': 'eth_mean', 'usd': 'usd_mean'})\n",
    "median_l = last_elements_.groupby('token_index')[['eth','usd']].median()\n",
    "median_l = median_l.rename(columns={'eth': 'eth_median', 'usd': 'usd_median'})\n",
    "var_l = last_elements_.groupby('token_index')[['eth','usd']].std()\n",
    "var_l = var_l.rename(columns={'eth': 'eth_std', 'usd': 'usd_std'})\n",
    "var_l.reset_index(inplace=True)\n",
    "median_l.reset_index(inplace=True)\n",
    "mean_l.reset_index(inplace=True)"
   ]
  },
  {
   "cell_type": "code",
   "execution_count": 318,
   "id": "eda163e5-ea1b-46cf-b37b-2aea713f4789",
   "metadata": {},
   "outputs": [],
   "source": [
    "result_new = pd.merge(result, mean_l, on='token_index', how='left')\n",
    "result_new = pd.merge(result_new, median_l, on='token_index', how='left')\n",
    "result_new = pd.merge(result_new, var_l, on='token_index', how='left')\n",
    "y = result_new.eth"
   ]
  },
  {
   "cell_type": "code",
   "execution_count": 319,
   "id": "fcd483bb-18fe-4122-a0c8-a250c5b29827",
   "metadata": {},
   "outputs": [],
   "source": [
    "result_new.drop(['token_index', 'eth'], inplace=True, axis=1)"
   ]
  },
  {
   "cell_type": "code",
   "execution_count": 315,
   "id": "46bfdbcd-4d2d-413a-a503-3b84c479ed9c",
   "metadata": {},
   "outputs": [],
   "source": [
    "model = xgb.XGBRegressor()"
   ]
  },
  {
   "cell_type": "code",
   "execution_count": 320,
   "id": "83f8642f-a854-4a96-8e39-3655be52ad7b",
   "metadata": {},
   "outputs": [],
   "source": [
    "# Perform cross-validation and calculate MdAPE scores\n",
    "mdape_scores = -cross_val_score(model, result_new, y, cv=5, scoring=scoring)"
   ]
  },
  {
   "cell_type": "code",
   "execution_count": 321,
   "id": "fdf83c9a-8454-47a8-b230-e11df47a1aea",
   "metadata": {},
   "outputs": [],
   "source": [
    "mean_mdape = np.mean(mdape_scores)"
   ]
  },
  {
   "cell_type": "code",
   "execution_count": 322,
   "id": "65fbac74-6d3b-4846-aad8-a4eb61d01a9c",
   "metadata": {},
   "outputs": [
    {
     "data": {
      "text/plain": [
       "54.53775678282814"
      ]
     },
     "execution_count": 322,
     "metadata": {},
     "output_type": "execute_result"
    }
   ],
   "source": [
    "mean_mdape"
   ]
  },
  {
   "cell_type": "code",
   "execution_count": null,
   "id": "8fe929ff-d33c-4097-8665-7cc3db277c18",
   "metadata": {},
   "outputs": [],
   "source": []
  }
 ],
 "metadata": {
  "kernelspec": {
   "display_name": "Python 3 (ipykernel)",
   "language": "python",
   "name": "python3"
  },
  "language_info": {
   "codemirror_mode": {
    "name": "ipython",
    "version": 3
   },
   "file_extension": ".py",
   "mimetype": "text/x-python",
   "name": "python",
   "nbconvert_exporter": "python",
   "pygments_lexer": "ipython3",
   "version": "3.9.13"
  }
 },
 "nbformat": 4,
 "nbformat_minor": 5
}
